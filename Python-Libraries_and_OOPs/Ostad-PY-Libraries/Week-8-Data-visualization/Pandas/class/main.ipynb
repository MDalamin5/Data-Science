{
 "cells": [
  {
   "cell_type": "code",
   "execution_count": 2,
   "metadata": {},
   "outputs": [],
   "source": [
    "import pandas as pd\n",
    "import numpy as np"
   ]
  },
  {
   "cell_type": "code",
   "execution_count": 6,
   "metadata": {},
   "outputs": [
    {
     "data": {
      "text/plain": [
       "DatetimeIndex(['2022-01-01', '2022-01-02', '2022-01-03', '2022-01-04',\n",
       "               '2022-01-05', '2022-01-06', '2022-01-07', '2022-01-08',\n",
       "               '2022-01-09', '2022-01-10',\n",
       "               ...\n",
       "               '2023-05-06', '2023-05-07', '2023-05-08', '2023-05-09',\n",
       "               '2023-05-10', '2023-05-11', '2023-05-12', '2023-05-13',\n",
       "               '2023-05-14', '2023-05-15'],\n",
       "              dtype='datetime64[ns]', length=500, freq='D')"
      ]
     },
     "execution_count": 6,
     "metadata": {},
     "output_type": "execute_result"
    }
   ],
   "source": [
    "dates = pd.date_range('1/1/2022', periods=500)\n",
    "dates"
   ]
  },
  {
   "cell_type": "code",
   "execution_count": 7,
   "metadata": {},
   "outputs": [
    {
     "data": {
      "text/plain": [
       "array([[ 0.2693964 ,  1.10751564,  0.32352029],\n",
       "       [-0.15771388,  0.77024844, -0.70144395],\n",
       "       [ 0.97423813,  0.63290574,  0.55282561],\n",
       "       ...,\n",
       "       [-0.84241499, -0.50222777,  2.00581854],\n",
       "       [ 0.24387541, -1.01196492,  0.63582376],\n",
       "       [-1.07288046, -0.41375597,  0.64666929]])"
      ]
     },
     "execution_count": 7,
     "metadata": {},
     "output_type": "execute_result"
    }
   ],
   "source": [
    "data1 = np.random.randn(500, 3)\n",
    "data1"
   ]
  },
  {
   "cell_type": "code",
   "execution_count": 8,
   "metadata": {},
   "outputs": [
    {
     "data": {
      "text/html": [
       "<div>\n",
       "<style scoped>\n",
       "    .dataframe tbody tr th:only-of-type {\n",
       "        vertical-align: middle;\n",
       "    }\n",
       "\n",
       "    .dataframe tbody tr th {\n",
       "        vertical-align: top;\n",
       "    }\n",
       "\n",
       "    .dataframe thead th {\n",
       "        text-align: right;\n",
       "    }\n",
       "</style>\n",
       "<table border=\"1\" class=\"dataframe\">\n",
       "  <thead>\n",
       "    <tr style=\"text-align: right;\">\n",
       "      <th></th>\n",
       "      <th>A</th>\n",
       "      <th>B</th>\n",
       "      <th>C</th>\n",
       "    </tr>\n",
       "  </thead>\n",
       "  <tbody>\n",
       "    <tr>\n",
       "      <th>2022-01-01</th>\n",
       "      <td>0.269396</td>\n",
       "      <td>1.107516</td>\n",
       "      <td>0.323520</td>\n",
       "    </tr>\n",
       "    <tr>\n",
       "      <th>2022-01-02</th>\n",
       "      <td>-0.157714</td>\n",
       "      <td>0.770248</td>\n",
       "      <td>-0.701444</td>\n",
       "    </tr>\n",
       "    <tr>\n",
       "      <th>2022-01-03</th>\n",
       "      <td>0.974238</td>\n",
       "      <td>0.632906</td>\n",
       "      <td>0.552826</td>\n",
       "    </tr>\n",
       "    <tr>\n",
       "      <th>2022-01-04</th>\n",
       "      <td>-1.403210</td>\n",
       "      <td>0.074328</td>\n",
       "      <td>0.686835</td>\n",
       "    </tr>\n",
       "    <tr>\n",
       "      <th>2022-01-05</th>\n",
       "      <td>-1.087482</td>\n",
       "      <td>-3.052021</td>\n",
       "      <td>2.367011</td>\n",
       "    </tr>\n",
       "    <tr>\n",
       "      <th>...</th>\n",
       "      <td>...</td>\n",
       "      <td>...</td>\n",
       "      <td>...</td>\n",
       "    </tr>\n",
       "    <tr>\n",
       "      <th>2023-05-11</th>\n",
       "      <td>-0.784406</td>\n",
       "      <td>-1.048016</td>\n",
       "      <td>0.650941</td>\n",
       "    </tr>\n",
       "    <tr>\n",
       "      <th>2023-05-12</th>\n",
       "      <td>-0.764480</td>\n",
       "      <td>1.280855</td>\n",
       "      <td>0.319438</td>\n",
       "    </tr>\n",
       "    <tr>\n",
       "      <th>2023-05-13</th>\n",
       "      <td>-0.842415</td>\n",
       "      <td>-0.502228</td>\n",
       "      <td>2.005819</td>\n",
       "    </tr>\n",
       "    <tr>\n",
       "      <th>2023-05-14</th>\n",
       "      <td>0.243875</td>\n",
       "      <td>-1.011965</td>\n",
       "      <td>0.635824</td>\n",
       "    </tr>\n",
       "    <tr>\n",
       "      <th>2023-05-15</th>\n",
       "      <td>-1.072880</td>\n",
       "      <td>-0.413756</td>\n",
       "      <td>0.646669</td>\n",
       "    </tr>\n",
       "  </tbody>\n",
       "</table>\n",
       "<p>500 rows × 3 columns</p>\n",
       "</div>"
      ],
      "text/plain": [
       "                   A         B         C\n",
       "2022-01-01  0.269396  1.107516  0.323520\n",
       "2022-01-02 -0.157714  0.770248 -0.701444\n",
       "2022-01-03  0.974238  0.632906  0.552826\n",
       "2022-01-04 -1.403210  0.074328  0.686835\n",
       "2022-01-05 -1.087482 -3.052021  2.367011\n",
       "...              ...       ...       ...\n",
       "2023-05-11 -0.784406 -1.048016  0.650941\n",
       "2023-05-12 -0.764480  1.280855  0.319438\n",
       "2023-05-13 -0.842415 -0.502228  2.005819\n",
       "2023-05-14  0.243875 -1.011965  0.635824\n",
       "2023-05-15 -1.072880 -0.413756  0.646669\n",
       "\n",
       "[500 rows x 3 columns]"
      ]
     },
     "execution_count": 8,
     "metadata": {},
     "output_type": "execute_result"
    }
   ],
   "source": [
    "df1 = pd.DataFrame(data = data1, index= dates, columns=['A', 'B', 'C'])\n",
    "df1"
   ]
  },
  {
   "cell_type": "code",
   "execution_count": 9,
   "metadata": {},
   "outputs": [
    {
     "data": {
      "text/html": [
       "<div>\n",
       "<style scoped>\n",
       "    .dataframe tbody tr th:only-of-type {\n",
       "        vertical-align: middle;\n",
       "    }\n",
       "\n",
       "    .dataframe tbody tr th {\n",
       "        vertical-align: top;\n",
       "    }\n",
       "\n",
       "    .dataframe thead th {\n",
       "        text-align: right;\n",
       "    }\n",
       "</style>\n",
       "<table border=\"1\" class=\"dataframe\">\n",
       "  <thead>\n",
       "    <tr style=\"text-align: right;\">\n",
       "      <th></th>\n",
       "      <th>X</th>\n",
       "      <th>Y</th>\n",
       "      <th>Z</th>\n",
       "    </tr>\n",
       "  </thead>\n",
       "  <tbody>\n",
       "    <tr>\n",
       "      <th>0</th>\n",
       "      <td>3.379047</td>\n",
       "      <td>1.188589</td>\n",
       "      <td>1.277346</td>\n",
       "    </tr>\n",
       "    <tr>\n",
       "      <th>1</th>\n",
       "      <td>-1.188343</td>\n",
       "      <td>-2.031285</td>\n",
       "      <td>1.174610</td>\n",
       "    </tr>\n",
       "    <tr>\n",
       "      <th>2</th>\n",
       "      <td>-0.505717</td>\n",
       "      <td>1.627082</td>\n",
       "      <td>0.804637</td>\n",
       "    </tr>\n",
       "    <tr>\n",
       "      <th>3</th>\n",
       "      <td>0.405922</td>\n",
       "      <td>0.556670</td>\n",
       "      <td>0.491350</td>\n",
       "    </tr>\n",
       "    <tr>\n",
       "      <th>4</th>\n",
       "      <td>0.037858</td>\n",
       "      <td>0.305749</td>\n",
       "      <td>0.150689</td>\n",
       "    </tr>\n",
       "    <tr>\n",
       "      <th>5</th>\n",
       "      <td>1.862387</td>\n",
       "      <td>0.103644</td>\n",
       "      <td>-0.055348</td>\n",
       "    </tr>\n",
       "    <tr>\n",
       "      <th>6</th>\n",
       "      <td>-1.962434</td>\n",
       "      <td>-0.239031</td>\n",
       "      <td>-0.002681</td>\n",
       "    </tr>\n",
       "    <tr>\n",
       "      <th>7</th>\n",
       "      <td>0.065797</td>\n",
       "      <td>-0.756015</td>\n",
       "      <td>0.315822</td>\n",
       "    </tr>\n",
       "    <tr>\n",
       "      <th>8</th>\n",
       "      <td>-0.465868</td>\n",
       "      <td>0.040875</td>\n",
       "      <td>-0.773345</td>\n",
       "    </tr>\n",
       "    <tr>\n",
       "      <th>9</th>\n",
       "      <td>-0.036679</td>\n",
       "      <td>0.307151</td>\n",
       "      <td>-0.207967</td>\n",
       "    </tr>\n",
       "    <tr>\n",
       "      <th>10</th>\n",
       "      <td>0.675396</td>\n",
       "      <td>-0.416110</td>\n",
       "      <td>0.441418</td>\n",
       "    </tr>\n",
       "    <tr>\n",
       "      <th>11</th>\n",
       "      <td>0.375768</td>\n",
       "      <td>-0.088998</td>\n",
       "      <td>-0.645909</td>\n",
       "    </tr>\n",
       "    <tr>\n",
       "      <th>12</th>\n",
       "      <td>1.770844</td>\n",
       "      <td>1.140020</td>\n",
       "      <td>-0.821030</td>\n",
       "    </tr>\n",
       "    <tr>\n",
       "      <th>13</th>\n",
       "      <td>0.063030</td>\n",
       "      <td>0.444889</td>\n",
       "      <td>0.586808</td>\n",
       "    </tr>\n",
       "    <tr>\n",
       "      <th>14</th>\n",
       "      <td>-0.319679</td>\n",
       "      <td>-1.568721</td>\n",
       "      <td>0.215955</td>\n",
       "    </tr>\n",
       "    <tr>\n",
       "      <th>15</th>\n",
       "      <td>-0.443159</td>\n",
       "      <td>-0.129592</td>\n",
       "      <td>1.284204</td>\n",
       "    </tr>\n",
       "    <tr>\n",
       "      <th>16</th>\n",
       "      <td>0.969157</td>\n",
       "      <td>-1.680811</td>\n",
       "      <td>-0.696656</td>\n",
       "    </tr>\n",
       "    <tr>\n",
       "      <th>17</th>\n",
       "      <td>0.881647</td>\n",
       "      <td>1.551590</td>\n",
       "      <td>1.710193</td>\n",
       "    </tr>\n",
       "    <tr>\n",
       "      <th>18</th>\n",
       "      <td>-0.806298</td>\n",
       "      <td>0.083150</td>\n",
       "      <td>0.517856</td>\n",
       "    </tr>\n",
       "    <tr>\n",
       "      <th>19</th>\n",
       "      <td>-0.820504</td>\n",
       "      <td>1.541879</td>\n",
       "      <td>-0.567757</td>\n",
       "    </tr>\n",
       "  </tbody>\n",
       "</table>\n",
       "</div>"
      ],
      "text/plain": [
       "           X         Y         Z\n",
       "0   3.379047  1.188589  1.277346\n",
       "1  -1.188343 -2.031285  1.174610\n",
       "2  -0.505717  1.627082  0.804637\n",
       "3   0.405922  0.556670  0.491350\n",
       "4   0.037858  0.305749  0.150689\n",
       "5   1.862387  0.103644 -0.055348\n",
       "6  -1.962434 -0.239031 -0.002681\n",
       "7   0.065797 -0.756015  0.315822\n",
       "8  -0.465868  0.040875 -0.773345\n",
       "9  -0.036679  0.307151 -0.207967\n",
       "10  0.675396 -0.416110  0.441418\n",
       "11  0.375768 -0.088998 -0.645909\n",
       "12  1.770844  1.140020 -0.821030\n",
       "13  0.063030  0.444889  0.586808\n",
       "14 -0.319679 -1.568721  0.215955\n",
       "15 -0.443159 -0.129592  1.284204\n",
       "16  0.969157 -1.680811 -0.696656\n",
       "17  0.881647  1.551590  1.710193\n",
       "18 -0.806298  0.083150  0.517856\n",
       "19 -0.820504  1.541879 -0.567757"
      ]
     },
     "execution_count": 9,
     "metadata": {},
     "output_type": "execute_result"
    }
   ],
   "source": [
    "data2 = np.random.randn(20, 3)\n",
    "col = ['X', 'Y', 'Z']\n",
    "df2 = pd.DataFrame(data= data2, columns= col)\n",
    "df2"
   ]
  },
  {
   "cell_type": "code",
   "execution_count": 12,
   "metadata": {},
   "outputs": [
    {
     "data": {
      "text/plain": [
       "<Axes: >"
      ]
     },
     "execution_count": 12,
     "metadata": {},
     "output_type": "execute_result"
    },
    {
     "data": {
      "image/png": "[encoded data removed]",
      "text/plain": [
       "<Figure size 640x480 with 1 Axes>"
      ]
     },
     "metadata": {},
     "output_type": "display_data"
    }
   ],
   "source": [
    "df1['A'].hist(edgecolor = 'black')\n"
   ]
  },
  {
   "cell_type": "code",
   "execution_count": 13,
   "metadata": {},
   "outputs": [
    {
     "data": {
      "text/plain": [
       "<Axes: >"
      ]
     },
     "execution_count": 13,
     "metadata": {},
     "output_type": "execute_result"
    },
    {
     "data": {
      "image/png": "[encoded data removed]",
      "text/plain": [
       "<Figure size 1200x500 with 1 Axes>"
      ]
     },
     "metadata": {},
     "output_type": "display_data"
    }
   ],
   "source": [
    "df1['A'].hist(bins=30, edgecolor='black', figsize=(12, 5))"
   ]
  }
 ],
 "metadata": {
  "kernelspec": {
   "display_name": "base",
   "language": "python",
   "name": "python3"
  },
  "language_info": {
   "codemirror_mode": {
    "name": "ipython",
    "version": 3
   },
   "file_extension": ".py",
   "mimetype": "text/x-python",
   "name": "python",
   "nbconvert_exporter": "python",
   "pygments_lexer": "ipython3",
   "version": "3.11.5"
  }
 },
 "nbformat": 4,
 "nbformat_minor": 2
}
