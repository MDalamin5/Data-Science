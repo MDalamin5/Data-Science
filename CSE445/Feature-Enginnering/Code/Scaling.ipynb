{
 "cells": [
  {
   "cell_type": "code",
   "execution_count": 87,
   "metadata": {},
   "outputs": [],
   "source": [
    "import pandas as pd\n",
    "import numpy as np"
   ]
  },
  {
   "cell_type": "markdown",
   "metadata": {},
   "source": [
    "<h3 style=\"color:green\">Need to Scaling for --> KNN, K-Means, PCA</h3>"
   ]
  },
  {
   "cell_type": "code",
   "execution_count": 88,
   "metadata": {},
   "outputs": [
    {
     "data": {
      "text/html": [
       "<div>\n",
       "<style scoped>\n",
       "    .dataframe tbody tr th:only-of-type {\n",
       "        vertical-align: middle;\n",
       "    }\n",
       "\n",
       "    .dataframe tbody tr th {\n",
       "        vertical-align: top;\n",
       "    }\n",
       "\n",
       "    .dataframe thead th {\n",
       "        text-align: right;\n",
       "    }\n",
       "</style>\n",
       "<table border=\"1\" class=\"dataframe\">\n",
       "  <thead>\n",
       "    <tr style=\"text-align: right;\">\n",
       "      <th></th>\n",
       "      <th>joining_date</th>\n",
       "      <th>job_title</th>\n",
       "      <th>required_experience</th>\n",
       "      <th>Overall_Satisfication</th>\n",
       "      <th>Working_model</th>\n",
       "      <th>Considering_Job_Switching_in_Future</th>\n",
       "      <th>Main_Reasons</th>\n",
       "      <th>Salary</th>\n",
       "    </tr>\n",
       "  </thead>\n",
       "  <tbody>\n",
       "    <tr>\n",
       "      <th>0</th>\n",
       "      <td>12/10/2023</td>\n",
       "      <td>Junior Software Developer (Backend)</td>\n",
       "      <td>Fresh graduate</td>\n",
       "      <td>Satisfied</td>\n",
       "      <td>On Site</td>\n",
       "      <td>No</td>\n",
       "      <td>I am happy with my work role</td>\n",
       "      <td>19000</td>\n",
       "    </tr>\n",
       "    <tr>\n",
       "      <th>1</th>\n",
       "      <td>03/01/2022</td>\n",
       "      <td>Data Scientist</td>\n",
       "      <td>More than 2 years</td>\n",
       "      <td>Satisfied</td>\n",
       "      <td>Remote</td>\n",
       "      <td>Yes</td>\n",
       "      <td>Better salary/benefits</td>\n",
       "      <td>50000</td>\n",
       "    </tr>\n",
       "    <tr>\n",
       "      <th>2</th>\n",
       "      <td>02/06/2022</td>\n",
       "      <td>Data Scientist</td>\n",
       "      <td>More than 2 years</td>\n",
       "      <td>Satisfied</td>\n",
       "      <td>On Site</td>\n",
       "      <td>Yes</td>\n",
       "      <td>Career Development, Salary andBenefits</td>\n",
       "      <td>115000</td>\n",
       "    </tr>\n",
       "    <tr>\n",
       "      <th>3</th>\n",
       "      <td>01/03/2021</td>\n",
       "      <td>Senior Software Engineer (Backend)</td>\n",
       "      <td>More than 2 years</td>\n",
       "      <td>Very Satisfied</td>\n",
       "      <td>On Site</td>\n",
       "      <td>No</td>\n",
       "      <td>I am happy with my work role</td>\n",
       "      <td>100000</td>\n",
       "    </tr>\n",
       "    <tr>\n",
       "      <th>4</th>\n",
       "      <td>03/08/2021</td>\n",
       "      <td>Software Developer (Backend)</td>\n",
       "      <td>More than 2 years</td>\n",
       "      <td>Satisfied</td>\n",
       "      <td>On Site</td>\n",
       "      <td>Yes</td>\n",
       "      <td>Seeking better work-life balance</td>\n",
       "      <td>47000</td>\n",
       "    </tr>\n",
       "    <tr>\n",
       "      <th>...</th>\n",
       "      <td>...</td>\n",
       "      <td>...</td>\n",
       "      <td>...</td>\n",
       "      <td>...</td>\n",
       "      <td>...</td>\n",
       "      <td>...</td>\n",
       "      <td>...</td>\n",
       "      <td>...</td>\n",
       "    </tr>\n",
       "    <tr>\n",
       "      <th>244</th>\n",
       "      <td>01/02/2024</td>\n",
       "      <td>Software Quality Assurance Engineer</td>\n",
       "      <td>Fresh graduate</td>\n",
       "      <td>Neutral</td>\n",
       "      <td>On Site</td>\n",
       "      <td>Yes</td>\n",
       "      <td>Career Development, Salary and Benefits</td>\n",
       "      <td>7000</td>\n",
       "    </tr>\n",
       "    <tr>\n",
       "      <th>245</th>\n",
       "      <td>01/02/2023</td>\n",
       "      <td>Software Developer (Backend)</td>\n",
       "      <td>More than 3 years</td>\n",
       "      <td>Satisfied</td>\n",
       "      <td>On Site</td>\n",
       "      <td>No</td>\n",
       "      <td>I am happy with my work role</td>\n",
       "      <td>80000</td>\n",
       "    </tr>\n",
       "    <tr>\n",
       "      <th>246</th>\n",
       "      <td>02/01/2022</td>\n",
       "      <td>Software Developer (Frontend)</td>\n",
       "      <td>More than 3 years</td>\n",
       "      <td>Satisfied</td>\n",
       "      <td>On Site</td>\n",
       "      <td>Yes</td>\n",
       "      <td>Better salary/benefits</td>\n",
       "      <td>26000</td>\n",
       "    </tr>\n",
       "    <tr>\n",
       "      <th>247</th>\n",
       "      <td>01/02/2023</td>\n",
       "      <td>Full Stack Developer</td>\n",
       "      <td>Less than 2 years</td>\n",
       "      <td>Satisfied</td>\n",
       "      <td>Remote</td>\n",
       "      <td>Yes</td>\n",
       "      <td>Better salary/benefits</td>\n",
       "      <td>75000</td>\n",
       "    </tr>\n",
       "    <tr>\n",
       "      <th>248</th>\n",
       "      <td>01/02/2022</td>\n",
       "      <td>Full Stack Developer</td>\n",
       "      <td>More than 5 years</td>\n",
       "      <td>Satisfied</td>\n",
       "      <td>Remote</td>\n",
       "      <td>Yes</td>\n",
       "      <td>Better salary/benefits</td>\n",
       "      <td>110000</td>\n",
       "    </tr>\n",
       "  </tbody>\n",
       "</table>\n",
       "<p>249 rows × 8 columns</p>\n",
       "</div>"
      ],
      "text/plain": [
       "    joining_date                            job_title required_experience  \\\n",
       "0     12/10/2023  Junior Software Developer (Backend)      Fresh graduate   \n",
       "1     03/01/2022                       Data Scientist   More than 2 years   \n",
       "2     02/06/2022                       Data Scientist   More than 2 years   \n",
       "3     01/03/2021   Senior Software Engineer (Backend)   More than 2 years   \n",
       "4     03/08/2021         Software Developer (Backend)   More than 2 years   \n",
       "..           ...                                  ...                 ...   \n",
       "244   01/02/2024  Software Quality Assurance Engineer      Fresh graduate   \n",
       "245   01/02/2023         Software Developer (Backend)   More than 3 years   \n",
       "246   02/01/2022        Software Developer (Frontend)   More than 3 years   \n",
       "247   01/02/2023                 Full Stack Developer   Less than 2 years   \n",
       "248   01/02/2022                 Full Stack Developer   More than 5 years   \n",
       "\n",
       "    Overall_Satisfication Working_model Considering_Job_Switching_in_Future  \\\n",
       "0               Satisfied       On Site                                  No   \n",
       "1               Satisfied        Remote                                 Yes   \n",
       "2               Satisfied       On Site                                 Yes   \n",
       "3          Very Satisfied       On Site                                  No   \n",
       "4               Satisfied       On Site                                 Yes   \n",
       "..                    ...           ...                                 ...   \n",
       "244               Neutral       On Site                                 Yes   \n",
       "245             Satisfied       On Site                                  No   \n",
       "246             Satisfied       On Site                                 Yes   \n",
       "247             Satisfied        Remote                                 Yes   \n",
       "248             Satisfied        Remote                                 Yes   \n",
       "\n",
       "                                Main_Reasons  Salary  \n",
       "0               I am happy with my work role   19000  \n",
       "1                     Better salary/benefits   50000  \n",
       "2     Career Development, Salary andBenefits  115000  \n",
       "3               I am happy with my work role  100000  \n",
       "4           Seeking better work-life balance   47000  \n",
       "..                                       ...     ...  \n",
       "244  Career Development, Salary and Benefits    7000  \n",
       "245             I am happy with my work role   80000  \n",
       "246                   Better salary/benefits   26000  \n",
       "247                   Better salary/benefits   75000  \n",
       "248                   Better salary/benefits  110000  \n",
       "\n",
       "[249 rows x 8 columns]"
      ]
     },
     "execution_count": 88,
     "metadata": {},
     "output_type": "execute_result"
    }
   ],
   "source": [
    "df = pd.read_csv('../Data/job-data.csv')\n",
    "df"
   ]
  },
  {
   "cell_type": "code",
   "execution_count": 89,
   "metadata": {},
   "outputs": [
    {
     "data": {
      "text/html": [
       "<div>\n",
       "<style scoped>\n",
       "    .dataframe tbody tr th:only-of-type {\n",
       "        vertical-align: middle;\n",
       "    }\n",
       "\n",
       "    .dataframe tbody tr th {\n",
       "        vertical-align: top;\n",
       "    }\n",
       "\n",
       "    .dataframe thead th {\n",
       "        text-align: right;\n",
       "    }\n",
       "</style>\n",
       "<table border=\"1\" class=\"dataframe\">\n",
       "  <thead>\n",
       "    <tr style=\"text-align: right;\">\n",
       "      <th></th>\n",
       "      <th>joining_date</th>\n",
       "      <th>job_title</th>\n",
       "      <th>required_experience</th>\n",
       "      <th>Overall_Satisfication</th>\n",
       "      <th>Working_model</th>\n",
       "      <th>Considering_Job_Switching_in_Future</th>\n",
       "      <th>Main_Reasons</th>\n",
       "      <th>Salary</th>\n",
       "      <th>Salary_Category</th>\n",
       "    </tr>\n",
       "  </thead>\n",
       "  <tbody>\n",
       "    <tr>\n",
       "      <th>246</th>\n",
       "      <td>02/01/2022</td>\n",
       "      <td>Software Developer (Frontend)</td>\n",
       "      <td>More than 3 years</td>\n",
       "      <td>Satisfied</td>\n",
       "      <td>On Site</td>\n",
       "      <td>Yes</td>\n",
       "      <td>Better salary/benefits</td>\n",
       "      <td>26000</td>\n",
       "      <td>Low</td>\n",
       "    </tr>\n",
       "    <tr>\n",
       "      <th>247</th>\n",
       "      <td>01/02/2023</td>\n",
       "      <td>Full Stack Developer</td>\n",
       "      <td>Less than 2 years</td>\n",
       "      <td>Satisfied</td>\n",
       "      <td>Remote</td>\n",
       "      <td>Yes</td>\n",
       "      <td>Better salary/benefits</td>\n",
       "      <td>75000</td>\n",
       "      <td>Medium-High</td>\n",
       "    </tr>\n",
       "    <tr>\n",
       "      <th>248</th>\n",
       "      <td>01/02/2022</td>\n",
       "      <td>Full Stack Developer</td>\n",
       "      <td>More than 5 years</td>\n",
       "      <td>Satisfied</td>\n",
       "      <td>Remote</td>\n",
       "      <td>Yes</td>\n",
       "      <td>Better salary/benefits</td>\n",
       "      <td>110000</td>\n",
       "      <td>High</td>\n",
       "    </tr>\n",
       "  </tbody>\n",
       "</table>\n",
       "</div>"
      ],
      "text/plain": [
       "    joining_date                      job_title required_experience  \\\n",
       "246   02/01/2022  Software Developer (Frontend)   More than 3 years   \n",
       "247   01/02/2023           Full Stack Developer   Less than 2 years   \n",
       "248   01/02/2022           Full Stack Developer   More than 5 years   \n",
       "\n",
       "    Overall_Satisfication Working_model Considering_Job_Switching_in_Future  \\\n",
       "246             Satisfied       On Site                                 Yes   \n",
       "247             Satisfied        Remote                                 Yes   \n",
       "248             Satisfied        Remote                                 Yes   \n",
       "\n",
       "               Main_Reasons  Salary Salary_Category  \n",
       "246  Better salary/benefits   26000             Low  \n",
       "247  Better salary/benefits   75000     Medium-High  \n",
       "248  Better salary/benefits  110000            High  "
      ]
     },
     "execution_count": 89,
     "metadata": {},
     "output_type": "execute_result"
    }
   ],
   "source": [
    "# Define salary ranges for each category\n",
    "salary_ranges = [(0, 30000), (30001, 50000), (50001, 70000), (70001, 90000), (90001, float('inf'))]\n",
    "categories = ['Low', 'Medium-Low', 'Medium', 'Medium-High', 'High']\n",
    "\n",
    "# Create a new categorical column based on the salary ranges\n",
    "def categorize_salary(salary):\n",
    "    for i, (lower, upper) in enumerate(salary_ranges):\n",
    "        if lower <= salary <= upper:\n",
    "            return categories[i]\n",
    "\n",
    "df['Salary_Category'] = df['Salary'].apply(categorize_salary)\n",
    "\n",
    "df.tail(3)"
   ]
  },
  {
   "cell_type": "code",
   "execution_count": 90,
   "metadata": {},
   "outputs": [
    {
     "data": {
      "text/html": [
       "<div>\n",
       "<style scoped>\n",
       "    .dataframe tbody tr th:only-of-type {\n",
       "        vertical-align: middle;\n",
       "    }\n",
       "\n",
       "    .dataframe tbody tr th {\n",
       "        vertical-align: top;\n",
       "    }\n",
       "\n",
       "    .dataframe thead th {\n",
       "        text-align: right;\n",
       "    }\n",
       "</style>\n",
       "<table border=\"1\" class=\"dataframe\">\n",
       "  <thead>\n",
       "    <tr style=\"text-align: right;\">\n",
       "      <th></th>\n",
       "      <th>job_title</th>\n",
       "      <th>required_experience</th>\n",
       "    </tr>\n",
       "  </thead>\n",
       "  <tbody>\n",
       "    <tr>\n",
       "      <th>0</th>\n",
       "      <td>Junior Software Developer (Backend)</td>\n",
       "      <td>Fresh graduate</td>\n",
       "    </tr>\n",
       "    <tr>\n",
       "      <th>1</th>\n",
       "      <td>Data Scientist</td>\n",
       "      <td>More than 2 years</td>\n",
       "    </tr>\n",
       "    <tr>\n",
       "      <th>2</th>\n",
       "      <td>Data Scientist</td>\n",
       "      <td>More than 2 years</td>\n",
       "    </tr>\n",
       "  </tbody>\n",
       "</table>\n",
       "</div>"
      ],
      "text/plain": [
       "                             job_title required_experience\n",
       "0  Junior Software Developer (Backend)      Fresh graduate\n",
       "1                       Data Scientist   More than 2 years\n",
       "2                       Data Scientist   More than 2 years"
      ]
     },
     "execution_count": 90,
     "metadata": {},
     "output_type": "execute_result"
    }
   ],
   "source": [
    "X = df[['job_title', 'required_experience']]\n",
    "X.head(3)"
   ]
  },
  {
   "cell_type": "code",
   "execution_count": 91,
   "metadata": {},
   "outputs": [],
   "source": [
    "y = df.Salary_Category\n"
   ]
  },
  {
   "cell_type": "code",
   "execution_count": 92,
   "metadata": {},
   "outputs": [
    {
     "data": {
      "text/plain": [
       "0           Low\n",
       "1    Medium-Low\n",
       "Name: Salary_Category, dtype: object"
      ]
     },
     "execution_count": 92,
     "metadata": {},
     "output_type": "execute_result"
    }
   ],
   "source": [
    "y.head(2)"
   ]
  },
  {
   "cell_type": "code",
   "execution_count": 93,
   "metadata": {},
   "outputs": [
    {
     "data": {
      "text/plain": [
       "0     19000\n",
       "1     50000\n",
       "2    115000\n",
       "3    100000\n",
       "Name: Salary, dtype: int64"
      ]
     },
     "execution_count": 93,
     "metadata": {},
     "output_type": "execute_result"
    }
   ],
   "source": [
    "yy = df.Salary\n",
    "yy.head(4)"
   ]
  },
  {
   "cell_type": "code",
   "execution_count": 94,
   "metadata": {},
   "outputs": [],
   "source": [
    "from sklearn.preprocessing import LabelEncoder\n",
    "le_x = LabelEncoder()"
   ]
  },
  {
   "cell_type": "code",
   "execution_count": 95,
   "metadata": {},
   "outputs": [
    {
     "data": {
      "text/html": [
       "<div>\n",
       "<style scoped>\n",
       "    .dataframe tbody tr th:only-of-type {\n",
       "        vertical-align: middle;\n",
       "    }\n",
       "\n",
       "    .dataframe tbody tr th {\n",
       "        vertical-align: top;\n",
       "    }\n",
       "\n",
       "    .dataframe thead th {\n",
       "        text-align: right;\n",
       "    }\n",
       "</style>\n",
       "<table border=\"1\" class=\"dataframe\">\n",
       "  <thead>\n",
       "    <tr style=\"text-align: right;\">\n",
       "      <th></th>\n",
       "      <th>job_title</th>\n",
       "      <th>required_experience</th>\n",
       "    </tr>\n",
       "  </thead>\n",
       "  <tbody>\n",
       "    <tr>\n",
       "      <th>0</th>\n",
       "      <td>14</td>\n",
       "      <td>0</td>\n",
       "    </tr>\n",
       "    <tr>\n",
       "      <th>1</th>\n",
       "      <td>3</td>\n",
       "      <td>2</td>\n",
       "    </tr>\n",
       "    <tr>\n",
       "      <th>2</th>\n",
       "      <td>3</td>\n",
       "      <td>2</td>\n",
       "    </tr>\n",
       "    <tr>\n",
       "      <th>3</th>\n",
       "      <td>20</td>\n",
       "      <td>2</td>\n",
       "    </tr>\n",
       "    <tr>\n",
       "      <th>4</th>\n",
       "      <td>23</td>\n",
       "      <td>2</td>\n",
       "    </tr>\n",
       "    <tr>\n",
       "      <th>...</th>\n",
       "      <td>...</td>\n",
       "      <td>...</td>\n",
       "    </tr>\n",
       "    <tr>\n",
       "      <th>244</th>\n",
       "      <td>28</td>\n",
       "      <td>0</td>\n",
       "    </tr>\n",
       "    <tr>\n",
       "      <th>245</th>\n",
       "      <td>23</td>\n",
       "      <td>3</td>\n",
       "    </tr>\n",
       "    <tr>\n",
       "      <th>246</th>\n",
       "      <td>24</td>\n",
       "      <td>3</td>\n",
       "    </tr>\n",
       "    <tr>\n",
       "      <th>247</th>\n",
       "      <td>9</td>\n",
       "      <td>1</td>\n",
       "    </tr>\n",
       "    <tr>\n",
       "      <th>248</th>\n",
       "      <td>9</td>\n",
       "      <td>5</td>\n",
       "    </tr>\n",
       "  </tbody>\n",
       "</table>\n",
       "<p>249 rows × 2 columns</p>\n",
       "</div>"
      ],
      "text/plain": [
       "     job_title  required_experience\n",
       "0           14                    0\n",
       "1            3                    2\n",
       "2            3                    2\n",
       "3           20                    2\n",
       "4           23                    2\n",
       "..         ...                  ...\n",
       "244         28                    0\n",
       "245         23                    3\n",
       "246         24                    3\n",
       "247          9                    1\n",
       "248          9                    5\n",
       "\n",
       "[249 rows x 2 columns]"
      ]
     },
     "execution_count": 95,
     "metadata": {},
     "output_type": "execute_result"
    }
   ],
   "source": [
    "X = X.apply(le_x.fit_transform)\n",
    "X"
   ]
  },
  {
   "cell_type": "code",
   "execution_count": 96,
   "metadata": {},
   "outputs": [],
   "source": [
    "from sklearn.model_selection import train_test_split\n",
    "X_train, X_test, yy_train, yy_test = train_test_split(X, yy, test_size=.2, random_state= 4)"
   ]
  },
  {
   "cell_type": "code",
   "execution_count": 97,
   "metadata": {},
   "outputs": [
    {
     "data": {
      "text/html": [
       "<style>#sk-container-id-8 {color: black;}#sk-container-id-8 pre{padding: 0;}#sk-container-id-8 div.sk-toggleable {background-color: white;}#sk-container-id-8 label.sk-toggleable__label {cursor: pointer;display: block;width: 100%;margin-bottom: 0;padding: 0.3em;box-sizing: border-box;text-align: center;}#sk-container-id-8 label.sk-toggleable__label-arrow:before {content: \"▸\";float: left;margin-right: 0.25em;color: #696969;}#sk-container-id-8 label.sk-toggleable__label-arrow:hover:before {color: black;}#sk-container-id-8 div.sk-estimator:hover label.sk-toggleable__label-arrow:before {color: black;}#sk-container-id-8 div.sk-toggleable__content {max-height: 0;max-width: 0;overflow: hidden;text-align: left;background-color: #f0f8ff;}#sk-container-id-8 div.sk-toggleable__content pre {margin: 0.2em;color: black;border-radius: 0.25em;background-color: #f0f8ff;}#sk-container-id-8 input.sk-toggleable__control:checked~div.sk-toggleable__content {max-height: 200px;max-width: 100%;overflow: auto;}#sk-container-id-8 input.sk-toggleable__control:checked~label.sk-toggleable__label-arrow:before {content: \"▾\";}#sk-container-id-8 div.sk-estimator input.sk-toggleable__control:checked~label.sk-toggleable__label {background-color: #d4ebff;}#sk-container-id-8 div.sk-label input.sk-toggleable__control:checked~label.sk-toggleable__label {background-color: #d4ebff;}#sk-container-id-8 input.sk-hidden--visually {border: 0;clip: rect(1px 1px 1px 1px);clip: rect(1px, 1px, 1px, 1px);height: 1px;margin: -1px;overflow: hidden;padding: 0;position: absolute;width: 1px;}#sk-container-id-8 div.sk-estimator {font-family: monospace;background-color: #f0f8ff;border: 1px dotted black;border-radius: 0.25em;box-sizing: border-box;margin-bottom: 0.5em;}#sk-container-id-8 div.sk-estimator:hover {background-color: #d4ebff;}#sk-container-id-8 div.sk-parallel-item::after {content: \"\";width: 100%;border-bottom: 1px solid gray;flex-grow: 1;}#sk-container-id-8 div.sk-label:hover label.sk-toggleable__label {background-color: #d4ebff;}#sk-container-id-8 div.sk-serial::before {content: \"\";position: absolute;border-left: 1px solid gray;box-sizing: border-box;top: 0;bottom: 0;left: 50%;z-index: 0;}#sk-container-id-8 div.sk-serial {display: flex;flex-direction: column;align-items: center;background-color: white;padding-right: 0.2em;padding-left: 0.2em;position: relative;}#sk-container-id-8 div.sk-item {position: relative;z-index: 1;}#sk-container-id-8 div.sk-parallel {display: flex;align-items: stretch;justify-content: center;background-color: white;position: relative;}#sk-container-id-8 div.sk-item::before, #sk-container-id-8 div.sk-parallel-item::before {content: \"\";position: absolute;border-left: 1px solid gray;box-sizing: border-box;top: 0;bottom: 0;left: 50%;z-index: -1;}#sk-container-id-8 div.sk-parallel-item {display: flex;flex-direction: column;z-index: 1;position: relative;background-color: white;}#sk-container-id-8 div.sk-parallel-item:first-child::after {align-self: flex-end;width: 50%;}#sk-container-id-8 div.sk-parallel-item:last-child::after {align-self: flex-start;width: 50%;}#sk-container-id-8 div.sk-parallel-item:only-child::after {width: 0;}#sk-container-id-8 div.sk-dashed-wrapped {border: 1px dashed gray;margin: 0 0.4em 0.5em 0.4em;box-sizing: border-box;padding-bottom: 0.4em;background-color: white;}#sk-container-id-8 div.sk-label label {font-family: monospace;font-weight: bold;display: inline-block;line-height: 1.2em;}#sk-container-id-8 div.sk-label-container {text-align: center;}#sk-container-id-8 div.sk-container {/* jupyter's `normalize.less` sets `[hidden] { display: none; }` but bootstrap.min.css set `[hidden] { display: none !important; }` so we also need the `!important` here to be able to override the default hidden behavior on the sphinx rendered scikit-learn.org. See: https://github.com/scikit-learn/scikit-learn/issues/21755 */display: inline-block !important;position: relative;}#sk-container-id-8 div.sk-text-repr-fallback {display: none;}</style><div id=\"sk-container-id-8\" class=\"sk-top-container\"><div class=\"sk-text-repr-fallback\"><pre>LinearRegression()</pre><b>In a Jupyter environment, please rerun this cell to show the HTML representation or trust the notebook. <br />On GitHub, the HTML representation is unable to render, please try loading this page with nbviewer.org.</b></div><div class=\"sk-container\" hidden><div class=\"sk-item\"><div class=\"sk-estimator sk-toggleable\"><input class=\"sk-toggleable__control sk-hidden--visually\" id=\"sk-estimator-id-8\" type=\"checkbox\" checked><label for=\"sk-estimator-id-8\" class=\"sk-toggleable__label sk-toggleable__label-arrow\">LinearRegression</label><div class=\"sk-toggleable__content\"><pre>LinearRegression()</pre></div></div></div></div></div>"
      ],
      "text/plain": [
       "LinearRegression()"
      ]
     },
     "execution_count": 97,
     "metadata": {},
     "output_type": "execute_result"
    }
   ],
   "source": [
    "from sklearn.linear_model import LinearRegression\n",
    "my_model = LinearRegression()\n",
    "my_model.fit(X, yy)"
   ]
  },
  {
   "cell_type": "code",
   "execution_count": 98,
   "metadata": {},
   "outputs": [
    {
     "data": {
      "text/plain": [
       "0.695929113125954"
      ]
     },
     "execution_count": 98,
     "metadata": {},
     "output_type": "execute_result"
    }
   ],
   "source": [
    "my_model.score(X_test, yy_test)"
   ]
  },
  {
   "cell_type": "code",
   "execution_count": 102,
   "metadata": {},
   "outputs": [
    {
     "data": {
      "text/plain": [
       "array([0.37289614, 0.77405982, 0.67458821, 0.72610426, 0.82904506,\n",
       "       0.43587061, 0.53603058, 0.56758981, 0.40480706, 0.62427668])"
      ]
     },
     "execution_count": 102,
     "metadata": {},
     "output_type": "execute_result"
    }
   ],
   "source": [
    "from sklearn.model_selection import cross_val_score\n",
    "from sklearn.linear_model import LinearRegression\n",
    "result = cross_val_score(LinearRegression() , X, yy, cv=10)\n",
    "result"
   ]
  },
  {
   "cell_type": "code",
   "execution_count": 103,
   "metadata": {},
   "outputs": [
    {
     "data": {
      "text/plain": [
       "0.5945268235329804"
      ]
     },
     "execution_count": 103,
     "metadata": {},
     "output_type": "execute_result"
    }
   ],
   "source": [
    "result.mean() "
   ]
  },
  {
   "cell_type": "code",
   "execution_count": null,
   "metadata": {},
   "outputs": [],
   "source": []
  }
 ],
 "metadata": {
  "kernelspec": {
   "display_name": "base",
   "language": "python",
   "name": "python3"
  },
  "language_info": {
   "codemirror_mode": {
    "name": "ipython",
    "version": 3
   },
   "file_extension": ".py",
   "mimetype": "text/x-python",
   "name": "python",
   "nbconvert_exporter": "python",
   "pygments_lexer": "ipython3",
   "version": "3.11.5"
  }
 },
 "nbformat": 4,
 "nbformat_minor": 2
}
