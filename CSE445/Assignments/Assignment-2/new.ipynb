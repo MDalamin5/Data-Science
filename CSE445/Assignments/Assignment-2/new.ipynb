{
 "cells": [
  {
   "cell_type": "code",
   "execution_count": 11,
   "metadata": {},
   "outputs": [
    {
     "name": "stdout",
     "output_type": "stream",
     "text": [
      "Mean Squared Error: 1.691231985004573e+34\n",
      "Mean Absolute Error: 2.8351644207944856e+16\n",
      "R-squared: -9.520035293065258e+24\n"
     ]
    }
   ],
   "source": [
    "import pandas as pd\n",
    "from sklearn.model_selection import train_test_split\n",
    "from sklearn.linear_model import LinearRegression\n",
    "from sklearn.metrics import mean_squared_error, mean_absolute_error, r2_score\n",
    "\n",
    "# Load the data\n",
    "df = pd.read_csv('job-data.csv')\n",
    "\n",
    "# Exclude \"joining_date\" column\n",
    "df_exclude_date = df.drop(columns=[\"joining_date\"])\n",
    "\n",
    "# Perform one-hot encoding for categorical variables\n",
    "df_encoded = pd.get_dummies(df_exclude_date, columns=[\"job_title\", \"required_experience\", \"Industary_Sector\", \"Demanding_Of_the_Job\", \"Overall_Satisfication\", \"Working_model\", \"Considering_Job_Switching_in_Future\", \"Main_Reasons\"])\n",
    "\n",
    "# Separate features (X) and target variable (y)\n",
    "X = df_encoded.drop(columns=[\"Salary\"])\n",
    "y = df_encoded[\"Salary\"]\n",
    "\n",
    "# Split the dataset into training and testing sets\n",
    "X_train, X_test, y_train, y_test = train_test_split(X, y, test_size=0.2, random_state=42)\n",
    "\n",
    "# Build the linear regression model\n",
    "model = LinearRegression()\n",
    "model.fit(X_train, y_train)\n",
    "# print(model.score(X_test, y_test))\n",
    "\n",
    "# Make predictions\n",
    "y_pred = model.predict(X_test)\n",
    "\n",
    "# Evaluate the model\n",
    "mse = mean_squared_error(y_test, y_pred)\n",
    "mae = mean_absolute_error(y_test, y_pred)\n",
    "r2 = r2_score(y_test, y_pred)\n",
    "\n",
    "print(\"Mean Squared Error:\", mse)\n",
    "print(\"Mean Absolute Error:\", mae)\n",
    "print(\"R-squared:\", r2)\n"
   ]
  },
  {
   "cell_type": "code",
   "execution_count": 6,
   "metadata": {},
   "outputs": [
    {
     "name": "stdout",
     "output_type": "stream",
     "text": [
      "Accuracy within ±5.0%: 0.00%\n"
     ]
    }
   ],
   "source": [
    "# Define tolerance level\n",
    "tolerance = 0.05  # 5% tolerance\n",
    "\n",
    "# Calculate absolute percentage error\n",
    "abs_percentage_error = abs((y_pred - y_test) / y_test)\n",
    "\n",
    "# Calculate accuracy within tolerance level\n",
    "accuracy = (abs_percentage_error <= tolerance).mean() * 100\n",
    "\n",
    "print(\"Accuracy within ±{}%: {:.2f}%\".format(tolerance * 100, accuracy))\n"
   ]
  },
  {
   "cell_type": "code",
   "execution_count": 12,
   "metadata": {},
   "outputs": [
    {
     "data": {
      "text/plain": [
       "-9.520035293065258e+24"
      ]
     },
     "execution_count": 12,
     "metadata": {},
     "output_type": "execute_result"
    }
   ],
   "source": [
    "model.score(X_test, y_test)"
   ]
  },
  {
   "cell_type": "code",
   "execution_count": null,
   "metadata": {},
   "outputs": [],
   "source": []
  }
 ],
 "metadata": {
  "kernelspec": {
   "display_name": "base",
   "language": "python",
   "name": "python3"
  },
  "language_info": {
   "codemirror_mode": {
    "name": "ipython",
    "version": 3
   },
   "file_extension": ".py",
   "mimetype": "text/x-python",
   "name": "python",
   "nbconvert_exporter": "python",
   "pygments_lexer": "ipython3",
   "version": "3.11.5"
  }
 },
 "nbformat": 4,
 "nbformat_minor": 2
}
