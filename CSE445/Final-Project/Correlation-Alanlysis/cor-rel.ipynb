{
 "cells": [
  {
   "cell_type": "code",
   "execution_count": 40,
   "metadata": {},
   "outputs": [],
   "source": [
    "import pandas as pd\n",
    "import numpy as np\n"
   ]
  },
  {
   "cell_type": "code",
   "execution_count": 41,
   "metadata": {},
   "outputs": [
    {
     "data": {
      "text/html": [
       "<div>\n",
       "<style scoped>\n",
       "    .dataframe tbody tr th:only-of-type {\n",
       "        vertical-align: middle;\n",
       "    }\n",
       "\n",
       "    .dataframe tbody tr th {\n",
       "        vertical-align: top;\n",
       "    }\n",
       "\n",
       "    .dataframe thead th {\n",
       "        text-align: right;\n",
       "    }\n",
       "</style>\n",
       "<table border=\"1\" class=\"dataframe\">\n",
       "  <thead>\n",
       "    <tr style=\"text-align: right;\">\n",
       "      <th></th>\n",
       "      <th>joining_date</th>\n",
       "      <th>job_title</th>\n",
       "      <th>required_experience</th>\n",
       "      <th>Overall_Satisfication</th>\n",
       "      <th>Working_model</th>\n",
       "      <th>Considering_Job_Switching_in_Future</th>\n",
       "      <th>Main_Reasons</th>\n",
       "      <th>Salary</th>\n",
       "    </tr>\n",
       "  </thead>\n",
       "  <tbody>\n",
       "    <tr>\n",
       "      <th>540</th>\n",
       "      <td>10/1/2022</td>\n",
       "      <td>Sr. ML Engineer</td>\n",
       "      <td>More than 2 years</td>\n",
       "      <td>Very satisfied</td>\n",
       "      <td>On Site</td>\n",
       "      <td>Yes</td>\n",
       "      <td>Career advancement opportunities</td>\n",
       "      <td>55000</td>\n",
       "    </tr>\n",
       "    <tr>\n",
       "      <th>541</th>\n",
       "      <td>2/1/2023</td>\n",
       "      <td>Junior Software Engineer</td>\n",
       "      <td>Fresh graduate</td>\n",
       "      <td>Satisfied</td>\n",
       "      <td>Hybrid</td>\n",
       "      <td>No</td>\n",
       "      <td>I am happy with my work role</td>\n",
       "      <td>20000</td>\n",
       "    </tr>\n",
       "    <tr>\n",
       "      <th>542</th>\n",
       "      <td>6/1/2021</td>\n",
       "      <td>Data Scientist</td>\n",
       "      <td>Less than 2 years</td>\n",
       "      <td>Satisfied</td>\n",
       "      <td>Remote</td>\n",
       "      <td>No</td>\n",
       "      <td>I am happy with my work role</td>\n",
       "      <td>45000</td>\n",
       "    </tr>\n",
       "  </tbody>\n",
       "</table>\n",
       "</div>"
      ],
      "text/plain": [
       "    joining_date                 job_title required_experience  \\\n",
       "540    10/1/2022           Sr. ML Engineer   More than 2 years   \n",
       "541     2/1/2023  Junior Software Engineer      Fresh graduate   \n",
       "542     6/1/2021            Data Scientist   Less than 2 years   \n",
       "\n",
       "    Overall_Satisfication Working_model Considering_Job_Switching_in_Future  \\\n",
       "540        Very satisfied       On Site                                 Yes   \n",
       "541             Satisfied        Hybrid                                  No   \n",
       "542             Satisfied        Remote                                  No   \n",
       "\n",
       "                         Main_Reasons  Salary  \n",
       "540  Career advancement opportunities   55000  \n",
       "541      I am happy with my work role   20000  \n",
       "542      I am happy with my work role   45000  "
      ]
     },
     "execution_count": 41,
     "metadata": {},
     "output_type": "execute_result"
    }
   ],
   "source": [
    "df = pd.read_csv('../Data/job-data.csv')\n",
    "df.tail(3)"
   ]
  },
  {
   "cell_type": "code",
   "execution_count": 42,
   "metadata": {},
   "outputs": [
    {
     "data": {
      "text/html": [
       "<div>\n",
       "<style scoped>\n",
       "    .dataframe tbody tr th:only-of-type {\n",
       "        vertical-align: middle;\n",
       "    }\n",
       "\n",
       "    .dataframe tbody tr th {\n",
       "        vertical-align: top;\n",
       "    }\n",
       "\n",
       "    .dataframe thead th {\n",
       "        text-align: right;\n",
       "    }\n",
       "</style>\n",
       "<table border=\"1\" class=\"dataframe\">\n",
       "  <thead>\n",
       "    <tr style=\"text-align: right;\">\n",
       "      <th></th>\n",
       "      <th>Salary</th>\n",
       "    </tr>\n",
       "  </thead>\n",
       "  <tbody>\n",
       "    <tr>\n",
       "      <th>count</th>\n",
       "      <td>543.000000</td>\n",
       "    </tr>\n",
       "    <tr>\n",
       "      <th>mean</th>\n",
       "      <td>58902.854512</td>\n",
       "    </tr>\n",
       "    <tr>\n",
       "      <th>std</th>\n",
       "      <td>37015.802402</td>\n",
       "    </tr>\n",
       "    <tr>\n",
       "      <th>min</th>\n",
       "      <td>5000.000000</td>\n",
       "    </tr>\n",
       "    <tr>\n",
       "      <th>25%</th>\n",
       "      <td>35000.000000</td>\n",
       "    </tr>\n",
       "    <tr>\n",
       "      <th>50%</th>\n",
       "      <td>50000.000000</td>\n",
       "    </tr>\n",
       "    <tr>\n",
       "      <th>75%</th>\n",
       "      <td>80000.000000</td>\n",
       "    </tr>\n",
       "    <tr>\n",
       "      <th>max</th>\n",
       "      <td>200000.000000</td>\n",
       "    </tr>\n",
       "  </tbody>\n",
       "</table>\n",
       "</div>"
      ],
      "text/plain": [
       "              Salary\n",
       "count     543.000000\n",
       "mean    58902.854512\n",
       "std     37015.802402\n",
       "min      5000.000000\n",
       "25%     35000.000000\n",
       "50%     50000.000000\n",
       "75%     80000.000000\n",
       "max    200000.000000"
      ]
     },
     "execution_count": 42,
     "metadata": {},
     "output_type": "execute_result"
    }
   ],
   "source": [
    "df.describe()"
   ]
  },
  {
   "cell_type": "code",
   "execution_count": 43,
   "metadata": {},
   "outputs": [
    {
     "data": {
      "text/plain": [
       "joining_date                           0\n",
       "job_title                              0\n",
       "required_experience                    0\n",
       "Overall_Satisfication                  0\n",
       "Working_model                          0\n",
       "Considering_Job_Switching_in_Future    0\n",
       "Main_Reasons                           0\n",
       "Salary                                 0\n",
       "dtype: int64"
      ]
     },
     "execution_count": 43,
     "metadata": {},
     "output_type": "execute_result"
    }
   ],
   "source": [
    "df.isnull().sum()"
   ]
  },
  {
   "cell_type": "code",
   "execution_count": 44,
   "metadata": {},
   "outputs": [
    {
     "data": {
      "text/plain": [
       "job_title\n",
       "Senior Software Engineer                 60\n",
       "Junior Software Developer(Backend)       39\n",
       "Cybersecurity Specialist                 33\n",
       "Software Developer(Frontend)             33\n",
       "Data Scientist                           32\n",
       "Software Developer(Backend)              31\n",
       "Web Developer                            29\n",
       "Junior Software Engineer                 26\n",
       "Software Engineer(Backend)               25\n",
       "Software Engineer                        22\n",
       "Data Analyst                             20\n",
       "Sr. ML Engineer                          19\n",
       "Full Stack Developer                     17\n",
       "Software Quality Assurance Engineer      15\n",
       "Senior Software Developer                14\n",
       "Digital Marketing                        13\n",
       "Senior Software Developer(Backend)       13\n",
       "jr. ML Engineer                          11\n",
       "Senior Software Engineer(Backend)         8\n",
       "DevOps Engineer                           8\n",
       "Senior Software Developer(Frontend)       7\n",
       "Graphic Designer                          7\n",
       "Database Administrator (DBA)              5\n",
       "Artificial Intelligence (AI) Engineer     4\n",
       "Student                                   4\n",
       "IT Project Manager                        4\n",
       "Technical Project Manager                 4\n",
       "Cloud Engineer                            4\n",
       "Senior Software Engineer(Frontend         3\n",
       "UI/UX Designer                            3\n",
       "IT Support Engineer                       3\n",
       "Research Assistant                        3\n",
       "UI-UX Designer                            3\n",
       "Lab Instructor                            2\n",
       "Kernel Developer                          2\n",
       "EEE Engineer                              2\n",
       "Game Developer                            2\n",
       "Software Engineer (Frontend)              2\n",
       "Mobile App Developer                      1\n",
       "Jr. SQA Engineer                          1\n",
       "Graphics Designer                         1\n",
       "Technical support                         1\n",
       "Envato Specialist                         1\n",
       "CEO                                       1\n",
       "Jr. Software QA Engineer                  1\n",
       "Software Quality Engineer                 1\n",
       "Photonics Engineer                        1\n",
       "Junior Software Developer(Frontend)       1\n",
       "Software QA Engineer                      1\n",
       "Name: count, dtype: int64"
      ]
     },
     "execution_count": 44,
     "metadata": {},
     "output_type": "execute_result"
    }
   ],
   "source": [
    "df['job_title'].value_counts()"
   ]
  },
  {
   "cell_type": "code",
   "execution_count": 45,
   "metadata": {},
   "outputs": [
    {
     "data": {
      "text/plain": [
       "required_experience\n",
       "Less than 2 years     119\n",
       "More than 2 years      91\n",
       "Fresh graduate         82\n",
       "More then 4 years      45\n",
       "More than 3 years      44\n",
       "More then 5 years      39\n",
       "Less than 1 years      35\n",
       "More then 3 years      21\n",
       "More than 4 years      20\n",
       "More than 1 years      13\n",
       "More than 5 years      11\n",
       "More than 7 years       7\n",
       "More than 6 years       6\n",
       "More than 8 years       5\n",
       "More than 10 years      4\n",
       "Less than 1 year        1\n",
       "Name: count, dtype: int64"
      ]
     },
     "execution_count": 45,
     "metadata": {},
     "output_type": "execute_result"
    }
   ],
   "source": [
    "df['required_experience'].value_counts()"
   ]
  },
  {
   "cell_type": "code",
   "execution_count": 46,
   "metadata": {},
   "outputs": [
    {
     "data": {
      "text/plain": [
       "Overall_Satisfication\n",
       "Satisfied            271\n",
       "Neutral              167\n",
       "Dissatisfied          44\n",
       "Very satisfied        42\n",
       "Very dissatisfied     19\n",
       "Name: count, dtype: int64"
      ]
     },
     "execution_count": 46,
     "metadata": {},
     "output_type": "execute_result"
    }
   ],
   "source": [
    "df['Overall_Satisfication'].value_counts()"
   ]
  },
  {
   "cell_type": "code",
   "execution_count": 47,
   "metadata": {},
   "outputs": [
    {
     "data": {
      "text/plain": [
       "Working_model\n",
       "On Site    373\n",
       "Remote     119\n",
       "Hybrid      51\n",
       "Name: count, dtype: int64"
      ]
     },
     "execution_count": 47,
     "metadata": {},
     "output_type": "execute_result"
    }
   ],
   "source": [
    "df['Working_model'].value_counts()"
   ]
  },
  {
   "cell_type": "code",
   "execution_count": 48,
   "metadata": {},
   "outputs": [
    {
     "data": {
      "text/plain": [
       "Considering_Job_Switching_in_Future\n",
       "Yes    409\n",
       "No     134\n",
       "Name: count, dtype: int64"
      ]
     },
     "execution_count": 48,
     "metadata": {},
     "output_type": "execute_result"
    }
   ],
   "source": [
    "df['Considering_Job_Switching_in_Future'].value_counts()"
   ]
  },
  {
   "cell_type": "code",
   "execution_count": 49,
   "metadata": {},
   "outputs": [
    {
     "data": {
      "text/plain": [
       "Main_Reasons\n",
       "Better salary/benefits                                240\n",
       "I am happy with my work role                          134\n",
       "Career Development, Salary and Benefits                59\n",
       "Career advancement opportunities                       57\n",
       "Seeking better work-life balance                       24\n",
       "Relocation/move to a different city                    17\n",
       "Dissatisfaction with previous job role/environment     12\n",
       "Name: count, dtype: int64"
      ]
     },
     "execution_count": 49,
     "metadata": {},
     "output_type": "execute_result"
    }
   ],
   "source": [
    "df['Main_Reasons'].value_counts()"
   ]
  },
  {
   "cell_type": "code",
   "execution_count": 50,
   "metadata": {},
   "outputs": [
    {
     "data": {
      "text/html": [
       "<div>\n",
       "<style scoped>\n",
       "    .dataframe tbody tr th:only-of-type {\n",
       "        vertical-align: middle;\n",
       "    }\n",
       "\n",
       "    .dataframe tbody tr th {\n",
       "        vertical-align: top;\n",
       "    }\n",
       "\n",
       "    .dataframe thead th {\n",
       "        text-align: right;\n",
       "    }\n",
       "</style>\n",
       "<table border=\"1\" class=\"dataframe\">\n",
       "  <thead>\n",
       "    <tr style=\"text-align: right;\">\n",
       "      <th></th>\n",
       "      <th>Salary</th>\n",
       "    </tr>\n",
       "  </thead>\n",
       "  <tbody>\n",
       "    <tr>\n",
       "      <th>count</th>\n",
       "      <td>543.000000</td>\n",
       "    </tr>\n",
       "    <tr>\n",
       "      <th>mean</th>\n",
       "      <td>58902.854512</td>\n",
       "    </tr>\n",
       "    <tr>\n",
       "      <th>std</th>\n",
       "      <td>37015.802402</td>\n",
       "    </tr>\n",
       "    <tr>\n",
       "      <th>min</th>\n",
       "      <td>5000.000000</td>\n",
       "    </tr>\n",
       "    <tr>\n",
       "      <th>25%</th>\n",
       "      <td>35000.000000</td>\n",
       "    </tr>\n",
       "    <tr>\n",
       "      <th>50%</th>\n",
       "      <td>50000.000000</td>\n",
       "    </tr>\n",
       "    <tr>\n",
       "      <th>75%</th>\n",
       "      <td>80000.000000</td>\n",
       "    </tr>\n",
       "    <tr>\n",
       "      <th>max</th>\n",
       "      <td>200000.000000</td>\n",
       "    </tr>\n",
       "  </tbody>\n",
       "</table>\n",
       "</div>"
      ],
      "text/plain": [
       "              Salary\n",
       "count     543.000000\n",
       "mean    58902.854512\n",
       "std     37015.802402\n",
       "min      5000.000000\n",
       "25%     35000.000000\n",
       "50%     50000.000000\n",
       "75%     80000.000000\n",
       "max    200000.000000"
      ]
     },
     "execution_count": 50,
     "metadata": {},
     "output_type": "execute_result"
    }
   ],
   "source": [
    "df.describe()"
   ]
  },
  {
   "cell_type": "code",
   "execution_count": 51,
   "metadata": {},
   "outputs": [
    {
     "data": {
      "text/plain": [
       "31984250"
      ]
     },
     "execution_count": 51,
     "metadata": {},
     "output_type": "execute_result"
    }
   ],
   "source": [
    "df['Salary'].sum()"
   ]
  },
  {
   "cell_type": "code",
   "execution_count": 52,
   "metadata": {},
   "outputs": [],
   "source": [
    "import matplotlib.pyplot as plt"
   ]
  },
  {
   "cell_type": "code",
   "execution_count": 53,
   "metadata": {},
   "outputs": [],
   "source": [
    "# plt.style.use('ggplot')\n",
    "plt.style.use('ggplot')"
   ]
  },
  {
   "cell_type": "code",
   "execution_count": 54,
   "metadata": {},
   "outputs": [
    {
     "data": {
      "text/plain": [
       "<Axes: >"
      ]
     },
     "execution_count": 54,
     "metadata": {},
     "output_type": "execute_result"
    },
    {
     "data": {
      "image/png": "[encoded data removed]",
      "text/plain": [
       "<Figure size 640x480 with 1 Axes>"
      ]
     },
     "metadata": {},
     "output_type": "display_data"
    }
   ],
   "source": [
    "df['Salary'].hist(bins=40)"
   ]
  },
  {
   "cell_type": "code",
   "execution_count": 55,
   "metadata": {},
   "outputs": [],
   "source": [
    "# Function to modify required_experience column\n",
    "def modify_experience(experience):\n",
    "    if experience.startswith(\"More than\"):\n",
    "        return float(experience.split()[2]) + 0.5\n",
    "    elif experience.startswith(\"Less than\"):\n",
    "        return float(experience.split()[2]) - 0.3\n",
    "    else:\n",
    "        return 0"
   ]
  },
  {
   "cell_type": "code",
   "execution_count": 56,
   "metadata": {},
   "outputs": [],
   "source": [
    "df['required_experience'] = df['required_experience'].apply(modify_experience)"
   ]
  },
  {
   "cell_type": "code",
   "execution_count": 57,
   "metadata": {},
   "outputs": [
    {
     "data": {
      "text/html": [
       "<div>\n",
       "<style scoped>\n",
       "    .dataframe tbody tr th:only-of-type {\n",
       "        vertical-align: middle;\n",
       "    }\n",
       "\n",
       "    .dataframe tbody tr th {\n",
       "        vertical-align: top;\n",
       "    }\n",
       "\n",
       "    .dataframe thead th {\n",
       "        text-align: right;\n",
       "    }\n",
       "</style>\n",
       "<table border=\"1\" class=\"dataframe\">\n",
       "  <thead>\n",
       "    <tr style=\"text-align: right;\">\n",
       "      <th></th>\n",
       "      <th>joining_date</th>\n",
       "      <th>job_title</th>\n",
       "      <th>required_experience</th>\n",
       "      <th>Overall_Satisfication</th>\n",
       "      <th>Working_model</th>\n",
       "      <th>Considering_Job_Switching_in_Future</th>\n",
       "      <th>Main_Reasons</th>\n",
       "      <th>Salary</th>\n",
       "    </tr>\n",
       "  </thead>\n",
       "  <tbody>\n",
       "    <tr>\n",
       "      <th>0</th>\n",
       "      <td>12/10/2023</td>\n",
       "      <td>Junior Software Developer(Backend)</td>\n",
       "      <td>0.0</td>\n",
       "      <td>Satisfied</td>\n",
       "      <td>On Site</td>\n",
       "      <td>No</td>\n",
       "      <td>I am happy with my work role</td>\n",
       "      <td>19000</td>\n",
       "    </tr>\n",
       "    <tr>\n",
       "      <th>1</th>\n",
       "      <td>03/01/2022</td>\n",
       "      <td>Data Scientist</td>\n",
       "      <td>2.5</td>\n",
       "      <td>Satisfied</td>\n",
       "      <td>Remote</td>\n",
       "      <td>Yes</td>\n",
       "      <td>Better salary/benefits</td>\n",
       "      <td>50000</td>\n",
       "    </tr>\n",
       "  </tbody>\n",
       "</table>\n",
       "</div>"
      ],
      "text/plain": [
       "  joining_date                           job_title  required_experience  \\\n",
       "0   12/10/2023  Junior Software Developer(Backend)                  0.0   \n",
       "1   03/01/2022                      Data Scientist                  2.5   \n",
       "\n",
       "  Overall_Satisfication Working_model Considering_Job_Switching_in_Future  \\\n",
       "0             Satisfied       On Site                                  No   \n",
       "1             Satisfied        Remote                                 Yes   \n",
       "\n",
       "                   Main_Reasons  Salary  \n",
       "0  I am happy with my work role   19000  \n",
       "1        Better salary/benefits   50000  "
      ]
     },
     "execution_count": 57,
     "metadata": {},
     "output_type": "execute_result"
    }
   ],
   "source": [
    "df.head(2)"
   ]
  },
  {
   "cell_type": "code",
   "execution_count": 58,
   "metadata": {},
   "outputs": [
    {
     "name": "stdout",
     "output_type": "stream",
     "text": [
      "<class 'pandas.core.frame.DataFrame'>\n",
      "RangeIndex: 543 entries, 0 to 542\n",
      "Data columns (total 8 columns):\n",
      " #   Column                               Non-Null Count  Dtype  \n",
      "---  ------                               --------------  -----  \n",
      " 0   joining_date                         543 non-null    object \n",
      " 1   job_title                            543 non-null    object \n",
      " 2   required_experience                  543 non-null    float64\n",
      " 3   Overall_Satisfication                543 non-null    object \n",
      " 4   Working_model                        543 non-null    object \n",
      " 5   Considering_Job_Switching_in_Future  543 non-null    object \n",
      " 6   Main_Reasons                         543 non-null    object \n",
      " 7   Salary                               543 non-null    int64  \n",
      "dtypes: float64(1), int64(1), object(6)\n",
      "memory usage: 34.1+ KB\n"
     ]
    }
   ],
   "source": [
    "df.info()"
   ]
  },
  {
   "cell_type": "code",
   "execution_count": 59,
   "metadata": {},
   "outputs": [
    {
     "data": {
      "text/plain": [
       "<bound method NDFrame.describe of     joining_date                           job_title  required_experience  \\\n",
       "0     12/10/2023  Junior Software Developer(Backend)                  0.0   \n",
       "1     03/01/2022                      Data Scientist                  2.5   \n",
       "2     02/06/2022                      Data Scientist                  2.5   \n",
       "3     01/03/2021   Senior Software Engineer(Backend)                  2.5   \n",
       "4     03/08/2021         Software Developer(Backend)                  2.5   \n",
       "..           ...                                 ...                  ...   \n",
       "538     3/1/2023            Senior Software Engineer                  0.0   \n",
       "539    4/15/2023           Senior Software Developer                  0.0   \n",
       "540    10/1/2022                     Sr. ML Engineer                  2.5   \n",
       "541     2/1/2023            Junior Software Engineer                  0.0   \n",
       "542     6/1/2021                      Data Scientist                  1.7   \n",
       "\n",
       "    Overall_Satisfication Working_model Considering_Job_Switching_in_Future  \\\n",
       "0               Satisfied       On Site                                  No   \n",
       "1               Satisfied        Remote                                 Yes   \n",
       "2               Satisfied       On Site                                 Yes   \n",
       "3          Very satisfied       On Site                                  No   \n",
       "4               Satisfied       On Site                                 Yes   \n",
       "..                    ...           ...                                 ...   \n",
       "538        Very satisfied       On Site                                 Yes   \n",
       "539               Neutral        Hybrid                                 Yes   \n",
       "540        Very satisfied       On Site                                 Yes   \n",
       "541             Satisfied        Hybrid                                  No   \n",
       "542             Satisfied        Remote                                  No   \n",
       "\n",
       "                                Main_Reasons  Salary  \n",
       "0               I am happy with my work role   19000  \n",
       "1                     Better salary/benefits   50000  \n",
       "2    Career Development, Salary and Benefits  115000  \n",
       "3               I am happy with my work role  100000  \n",
       "4           Seeking better work-life balance   47000  \n",
       "..                                       ...     ...  \n",
       "538         Career advancement opportunities   55000  \n",
       "539                   Better salary/benefits   45000  \n",
       "540         Career advancement opportunities   55000  \n",
       "541             I am happy with my work role   20000  \n",
       "542             I am happy with my work role   45000  \n",
       "\n",
       "[543 rows x 8 columns]>"
      ]
     },
     "execution_count": 59,
     "metadata": {},
     "output_type": "execute_result"
    }
   ],
   "source": [
    "df.describe"
   ]
  },
  {
   "cell_type": "code",
   "execution_count": 60,
   "metadata": {},
   "outputs": [],
   "source": [
    "import seaborn as sns"
   ]
  },
  {
   "cell_type": "code",
   "execution_count": 61,
   "metadata": {},
   "outputs": [
    {
     "name": "stderr",
     "output_type": "stream",
     "text": [
      "C:\\Users\\Lenovo\\AppData\\Local\\Temp\\ipykernel_3968\\3249851952.py:1: UserWarning: \n",
      "\n",
      "`distplot` is a deprecated function and will be removed in seaborn v0.14.0.\n",
      "\n",
      "Please adapt your code to use either `displot` (a figure-level function with\n",
      "similar flexibility) or `histplot` (an axes-level function for histograms).\n",
      "\n",
      "For a guide to updating your code to use the new functions, please see\n",
      "https://gist.github.com/mwaskom/de44147ed2974457ad6372750bbe5751\n",
      "\n",
      "  sns.distplot(df['Salary'])\n"
     ]
    },
    {
     "data": {
      "text/plain": [
       "<Axes: xlabel='Salary', ylabel='Density'>"
      ]
     },
     "execution_count": 61,
     "metadata": {},
     "output_type": "execute_result"
    },
    {
     "data": {
      "image/png": "[encoded data removed]",
      "text/plain": [
       "<Figure size 640x480 with 1 Axes>"
      ]
     },
     "metadata": {},
     "output_type": "display_data"
    }
   ],
   "source": [
    "sns.distplot(df['Salary'])"
   ]
  },
  {
   "cell_type": "code",
   "execution_count": 62,
   "metadata": {},
   "outputs": [
    {
     "data": {
      "text/plain": [
       "<seaborn.axisgrid.JointGrid at 0x165fa16b770>"
      ]
     },
     "execution_count": 62,
     "metadata": {},
     "output_type": "execute_result"
    },
    {
     "data": {
      "image/png": "[encoded data removed]",
      "text/plain": [
       "<Figure size 600x600 with 3 Axes>"
      ]
     },
     "metadata": {},
     "output_type": "display_data"
    }
   ],
   "source": [
    "sns.jointplot(x='required_experience', y='Salary', kind='reg', data=df)"
   ]
  },
  {
   "cell_type": "code",
   "execution_count": 63,
   "metadata": {},
   "outputs": [
    {
     "name": "stderr",
     "output_type": "stream",
     "text": [
      "C:\\Users\\Lenovo\\AppData\\Local\\Temp\\ipykernel_3968\\2807057196.py:1: UserWarning: \n",
      "\n",
      "`distplot` is a deprecated function and will be removed in seaborn v0.14.0.\n",
      "\n",
      "Please adapt your code to use either `displot` (a figure-level function with\n",
      "similar flexibility) or `histplot` (an axes-level function for histograms).\n",
      "\n",
      "For a guide to updating your code to use the new functions, please see\n",
      "https://gist.github.com/mwaskom/de44147ed2974457ad6372750bbe5751\n",
      "\n",
      "  sns.distplot(df['required_experience'])\n"
     ]
    },
    {
     "data": {
      "text/plain": [
       "<Axes: xlabel='required_experience', ylabel='Density'>"
      ]
     },
     "execution_count": 63,
     "metadata": {},
     "output_type": "execute_result"
    },
    {
     "data": {
      "image/png": "[encoded data removed]",
      "text/plain": [
       "<Figure size 640x480 with 1 Axes>"
      ]
     },
     "metadata": {},
     "output_type": "display_data"
    }
   ],
   "source": [
    "sns.distplot(df['required_experience'])"
   ]
  }
 ],
 "metadata": {
  "kernelspec": {
   "display_name": "MY_LOQ",
   "language": "python",
   "name": "python3"
  },
  "language_info": {
   "codemirror_mode": {
    "name": "ipython",
    "version": 3
   },
   "file_extension": ".py",
   "mimetype": "text/x-python",
   "name": "python",
   "nbconvert_exporter": "python",
   "pygments_lexer": "ipython3",
   "version": "3.12.3"
  }
 },
 "nbformat": 4,
 "nbformat_minor": 2
}
